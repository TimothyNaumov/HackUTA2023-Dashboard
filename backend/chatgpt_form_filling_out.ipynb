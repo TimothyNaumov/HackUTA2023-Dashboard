{
 "cells": [
  {
   "cell_type": "code",
   "execution_count": null,
   "metadata": {},
   "outputs": [],
   "source": [
    "import openai\n",
    "import json\n",
    "from typing import List"
   ]
  },
  {
   "cell_type": "code",
   "execution_count": null,
   "metadata": {},
   "outputs": [],
   "source": [
    "with open(\"secrets.json\", \"r\") as f:\n",
    "\tsecrets = json.load(f)[\"openai-key\"]\n",
    "\topenai.api_key = secrets"
   ]
  },
  {
   "cell_type": "code",
   "execution_count": null,
   "metadata": {},
   "outputs": [],
   "source": [
    "model = \"gpt-3.5-turbo\""
   ]
  },
  {
   "cell_type": "code",
   "execution_count": null,
   "metadata": {},
   "outputs": [],
   "source": [
    "messages = [\n",
    "\t{\n",
    "\t\t\"role\": \"system\",\n",
    "\t\t\"content\": \"\"\"You are a customer service representative trying to help someone who has just been in a minor car wreck. Use the following steps to guide the user through the process of handling their accident:\n",
    "\t\t'''\n",
    "\t\t1. Check for injuries\n",
    "\t\t2. Get to a safe location\n",
    "\t\t3. Have someone call 911 and file an accident report while the user stays on the line with you\n",
    "\t\t4. Exchange contact and insurance information and wait for the police to arrive\n",
    "\t\t5. Provide a statement to the officer, but avoid saying that you are not injured as injuries may not surface immediately\n",
    "\t\t6. Notify your car insurance company and stay at the scene until cleared to leave\n",
    "\t\t'''. Walk them through the steps one at a time, only addressing one step in each message you send to the user. Do not talk about multiple steps in one message.\n",
    "\t\t\"\"\",\n",
    "\t},\n",
    "\t{\"role\": \"user\", \"content\": \"Hello! My name is Nicholas Zolton, and I've just had a minor fenderbender. I'm super stressed, what should I do?\"},\n",
    "]"
   ]
  },
  {
   "cell_type": "code",
   "execution_count": null,
   "metadata": {},
   "outputs": [],
   "source": [
    "completion = openai.ChatCompletion.create(\n",
    "\tmodel=model, messages=messages,\n",
    ")"
   ]
  },
  {
   "cell_type": "code",
   "execution_count": null,
   "metadata": {},
   "outputs": [],
   "source": [
    "print(completion)"
   ]
  },
  {
   "cell_type": "code",
   "execution_count": null,
   "metadata": {},
   "outputs": [],
   "source": [
    "messages.append(completion.choices[0].message)\n",
    "print(messages)"
   ]
  },
  {
   "cell_type": "code",
   "execution_count": null,
   "metadata": {},
   "outputs": [],
   "source": [
    "messages.append({\n",
    "\t'role': 'user',\n",
    "\t'content': 'Yeah everyone appears to be alright, what should I do now?'\n",
    "})\n",
    "print(messages)"
   ]
  },
  {
   "cell_type": "code",
   "execution_count": null,
   "metadata": {},
   "outputs": [],
   "source": [
    "completion = openai.ChatCompletion.create(\n",
    "\tmodel=model, messages=messages,\n",
    ")"
   ]
  },
  {
   "cell_type": "code",
   "execution_count": null,
   "metadata": {},
   "outputs": [],
   "source": [
    "print(completion.choices[0].message)"
   ]
  },
  {
   "cell_type": "code",
   "execution_count": null,
   "metadata": {},
   "outputs": [],
   "source": [
    "messages.append(completion.choices[0].message)"
   ]
  },
  {
   "cell_type": "code",
   "execution_count": null,
   "metadata": {},
   "outputs": [],
   "source": [
    "messages"
   ]
  },
  {
   "cell_type": "code",
   "execution_count": null,
   "metadata": {},
   "outputs": [],
   "source": [
    "messages.append({\n",
    "\t'role': 'user',\n",
    "\t'content': 'Okay, I have moved my car to a safe location, what should I do now?'\n",
    "})\n",
    "print(messages)"
   ]
  },
  {
   "cell_type": "code",
   "execution_count": null,
   "metadata": {},
   "outputs": [],
   "source": [
    "completion = openai.ChatCompletion.create(\n",
    "\tmodel=model, messages=messages,\n",
    ")\n",
    "print(completion)"
   ]
  },
  {
   "cell_type": "code",
   "execution_count": null,
   "metadata": {},
   "outputs": [],
   "source": [
    "messages.append(completion.choices[0].message)\n",
    "print(messages)"
   ]
  },
  {
   "cell_type": "code",
   "execution_count": null,
   "metadata": {},
   "outputs": [],
   "source": []
  },
  {
   "cell_type": "code",
   "execution_count": null,
   "metadata": {},
   "outputs": [],
   "source": [
    "messages.append({\n",
    "\t'role': 'user',\n",
    "\t'content': 'Okay, the accident report has been filed. What is my next step?'\n",
    "})\n",
    "print(messages)"
   ]
  },
  {
   "cell_type": "code",
   "execution_count": null,
   "metadata": {},
   "outputs": [],
   "source": [
    "completion = openai.ChatCompletion.create(\n",
    "\tmodel=model, messages=messages,\n",
    ")\n",
    "messages.append(completion.choices[0].message)\n",
    "messages.append({\n",
    "\t'role': 'user',\n",
    "\t'content': \"Alright, I've got the other person's contact and insurance information, and the police have arrived.\"\n",
    "})\n",
    "completion = openai.ChatCompletion.create(\n",
    "\tmodel=model, messages=messages,\n",
    ")\n",
    "messages.append(completion.choices[0].message)\n",
    "messages.append({\n",
    "\t'role': 'user',\n",
    "\t'content': \"Okay, I've made my official statement to the police. Is there anything left for me to do?\"\n",
    "})"
   ]
  }
 ],
 "metadata": {
  "kernelspec": {
   "display_name": ".env",
   "language": "python",
   "name": "python3"
  },
  "language_info": {
   "codemirror_mode": {
    "name": "ipython",
    "version": 3
   },
   "file_extension": ".py",
   "mimetype": "text/x-python",
   "name": "python",
   "nbconvert_exporter": "python",
   "pygments_lexer": "ipython3",
   "version": "3.11.4"
  }
 },
 "nbformat": 4,
 "nbformat_minor": 2
}
